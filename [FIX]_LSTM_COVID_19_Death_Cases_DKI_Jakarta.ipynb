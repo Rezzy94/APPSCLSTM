{
  "nbformat": 4,
  "nbformat_minor": 0,
  "metadata": {
    "colab": {
      "name": "[FIX] LSTM COVID-19 Death Cases DKI Jakarta.ipynb",
      "provenance": [],
      "collapsed_sections": []
    },
    "kernelspec": {
      "name": "python3",
      "display_name": "Python 3"
    },
    "language_info": {
      "name": "python"
    }
  },
  "cells": [
    {
      "cell_type": "code",
      "metadata": {
        "id": "vid55_AmeWwx"
      },
      "source": [
        "import numpy\n",
        "import pandas as pd\n",
        "import matplotlib.pyplot as plt\n",
        "from pandas import read_csv\n",
        "import math\n",
        "from tensorflow import keras\n",
        "from keras.models import Sequential\n",
        "from keras.layers import Dense\n",
        "from keras.layers import LSTM\n",
        "from keras.layers import Dropout\n",
        "from sklearn.preprocessing import MinMaxScaler\n",
        "from sklearn.metrics import mean_squared_error\n",
        "from keras.callbacks import EarlyStopping"
      ],
      "execution_count": 1,
      "outputs": []
    },
    {
      "cell_type": "code",
      "source": [
        "from google.colab import files\n",
        "#load the dataset\n",
        "uploaded = files.upload()"
      ],
      "metadata": {
        "colab": {
          "resources": {
            "http://localhost:8080/nbextensions/google.colab/files.js": {
              "data": "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",
              "ok": true,
              "headers": [
                [
                  "content-type",
                  "application/javascript"
                ]
              ],
              "status": 200,
              "status_text": ""
            }
          },
          "base_uri": "https://localhost:8080/",
          "height": 73
        },
        "id": "zgvNrfIewlSP",
        "outputId": "aa4356c4-6d18-4b87-ba1c-5ac23bde3ff5"
      },
      "execution_count": 2,
      "outputs": [
        {
          "output_type": "display_data",
          "data": {
            "text/plain": [
              "<IPython.core.display.HTML object>"
            ],
            "text/html": [
              "\n",
              "     <input type=\"file\" id=\"files-1b76e333-5dd7-4db7-84d5-ec504bf6c789\" name=\"files[]\" multiple disabled\n",
              "        style=\"border:none\" />\n",
              "     <output id=\"result-1b76e333-5dd7-4db7-84d5-ec504bf6c789\">\n",
              "      Upload widget is only available when the cell has been executed in the\n",
              "      current browser session. Please rerun this cell to enable.\n",
              "      </output>\n",
              "      <script src=\"/nbextensions/google.colab/files.js\"></script> "
            ]
          },
          "metadata": {}
        },
        {
          "output_type": "stream",
          "name": "stdout",
          "text": [
            "Saving Covid-19 Death Cases in Jakarta.csv to Covid-19 Death Cases in Jakarta.csv\n"
          ]
        }
      ]
    },
    {
      "cell_type": "code",
      "source": [
        "import pandas as pd\n",
        "import io\n",
        "data = pd.read_csv(io.BytesIO(uploaded['Covid-19 Death Cases in Jakarta.csv']), sep=\";\")\n",
        "data['Tanggal'] = pd.to_datetime(data['Tanggal'])\n",
        "data"
      ],
      "metadata": {
        "colab": {
          "base_uri": "https://localhost:8080/",
          "height": 424
        },
        "id": "6eMnKW6qwnog",
        "outputId": "a8b7a8db-0605-458f-ba9b-efae3cefa677"
      },
      "execution_count": 3,
      "outputs": [
        {
          "output_type": "execute_result",
          "data": {
            "text/plain": [
              "       Tanggal  Meninggal\n",
              "0   2020-01-03          0\n",
              "1   2020-02-03          0\n",
              "2   2020-03-03          1\n",
              "3   2020-04-03          0\n",
              "4   2020-05-03          2\n",
              "..         ...        ...\n",
              "759 2022-03-30         11\n",
              "760 2022-03-31          8\n",
              "761 2022-01-04          8\n",
              "762 2022-02-04          8\n",
              "763 2022-03-04          7\n",
              "\n",
              "[764 rows x 2 columns]"
            ],
            "text/html": [
              "\n",
              "  <div id=\"df-6abbc8ea-f626-4a65-8e60-19688277a9b8\">\n",
              "    <div class=\"colab-df-container\">\n",
              "      <div>\n",
              "<style scoped>\n",
              "    .dataframe tbody tr th:only-of-type {\n",
              "        vertical-align: middle;\n",
              "    }\n",
              "\n",
              "    .dataframe tbody tr th {\n",
              "        vertical-align: top;\n",
              "    }\n",
              "\n",
              "    .dataframe thead th {\n",
              "        text-align: right;\n",
              "    }\n",
              "</style>\n",
              "<table border=\"1\" class=\"dataframe\">\n",
              "  <thead>\n",
              "    <tr style=\"text-align: right;\">\n",
              "      <th></th>\n",
              "      <th>Tanggal</th>\n",
              "      <th>Meninggal</th>\n",
              "    </tr>\n",
              "  </thead>\n",
              "  <tbody>\n",
              "    <tr>\n",
              "      <th>0</th>\n",
              "      <td>2020-01-03</td>\n",
              "      <td>0</td>\n",
              "    </tr>\n",
              "    <tr>\n",
              "      <th>1</th>\n",
              "      <td>2020-02-03</td>\n",
              "      <td>0</td>\n",
              "    </tr>\n",
              "    <tr>\n",
              "      <th>2</th>\n",
              "      <td>2020-03-03</td>\n",
              "      <td>1</td>\n",
              "    </tr>\n",
              "    <tr>\n",
              "      <th>3</th>\n",
              "      <td>2020-04-03</td>\n",
              "      <td>0</td>\n",
              "    </tr>\n",
              "    <tr>\n",
              "      <th>4</th>\n",
              "      <td>2020-05-03</td>\n",
              "      <td>2</td>\n",
              "    </tr>\n",
              "    <tr>\n",
              "      <th>...</th>\n",
              "      <td>...</td>\n",
              "      <td>...</td>\n",
              "    </tr>\n",
              "    <tr>\n",
              "      <th>759</th>\n",
              "      <td>2022-03-30</td>\n",
              "      <td>11</td>\n",
              "    </tr>\n",
              "    <tr>\n",
              "      <th>760</th>\n",
              "      <td>2022-03-31</td>\n",
              "      <td>8</td>\n",
              "    </tr>\n",
              "    <tr>\n",
              "      <th>761</th>\n",
              "      <td>2022-01-04</td>\n",
              "      <td>8</td>\n",
              "    </tr>\n",
              "    <tr>\n",
              "      <th>762</th>\n",
              "      <td>2022-02-04</td>\n",
              "      <td>8</td>\n",
              "    </tr>\n",
              "    <tr>\n",
              "      <th>763</th>\n",
              "      <td>2022-03-04</td>\n",
              "      <td>7</td>\n",
              "    </tr>\n",
              "  </tbody>\n",
              "</table>\n",
              "<p>764 rows × 2 columns</p>\n",
              "</div>\n",
              "      <button class=\"colab-df-convert\" onclick=\"convertToInteractive('df-6abbc8ea-f626-4a65-8e60-19688277a9b8')\"\n",
              "              title=\"Convert this dataframe to an interactive table.\"\n",
              "              style=\"display:none;\">\n",
              "        \n",
              "  <svg xmlns=\"http://www.w3.org/2000/svg\" height=\"24px\"viewBox=\"0 0 24 24\"\n",
              "       width=\"24px\">\n",
              "    <path d=\"M0 0h24v24H0V0z\" fill=\"none\"/>\n",
              "    <path d=\"M18.56 5.44l.94 2.06.94-2.06 2.06-.94-2.06-.94-.94-2.06-.94 2.06-2.06.94zm-11 1L8.5 8.5l.94-2.06 2.06-.94-2.06-.94L8.5 2.5l-.94 2.06-2.06.94zm10 10l.94 2.06.94-2.06 2.06-.94-2.06-.94-.94-2.06-.94 2.06-2.06.94z\"/><path d=\"M17.41 7.96l-1.37-1.37c-.4-.4-.92-.59-1.43-.59-.52 0-1.04.2-1.43.59L10.3 9.45l-7.72 7.72c-.78.78-.78 2.05 0 2.83L4 21.41c.39.39.9.59 1.41.59.51 0 1.02-.2 1.41-.59l7.78-7.78 2.81-2.81c.8-.78.8-2.07 0-2.86zM5.41 20L4 18.59l7.72-7.72 1.47 1.35L5.41 20z\"/>\n",
              "  </svg>\n",
              "      </button>\n",
              "      \n",
              "  <style>\n",
              "    .colab-df-container {\n",
              "      display:flex;\n",
              "      flex-wrap:wrap;\n",
              "      gap: 12px;\n",
              "    }\n",
              "\n",
              "    .colab-df-convert {\n",
              "      background-color: #E8F0FE;\n",
              "      border: none;\n",
              "      border-radius: 50%;\n",
              "      cursor: pointer;\n",
              "      display: none;\n",
              "      fill: #1967D2;\n",
              "      height: 32px;\n",
              "      padding: 0 0 0 0;\n",
              "      width: 32px;\n",
              "    }\n",
              "\n",
              "    .colab-df-convert:hover {\n",
              "      background-color: #E2EBFA;\n",
              "      box-shadow: 0px 1px 2px rgba(60, 64, 67, 0.3), 0px 1px 3px 1px rgba(60, 64, 67, 0.15);\n",
              "      fill: #174EA6;\n",
              "    }\n",
              "\n",
              "    [theme=dark] .colab-df-convert {\n",
              "      background-color: #3B4455;\n",
              "      fill: #D2E3FC;\n",
              "    }\n",
              "\n",
              "    [theme=dark] .colab-df-convert:hover {\n",
              "      background-color: #434B5C;\n",
              "      box-shadow: 0px 1px 3px 1px rgba(0, 0, 0, 0.15);\n",
              "      filter: drop-shadow(0px 1px 2px rgba(0, 0, 0, 0.3));\n",
              "      fill: #FFFFFF;\n",
              "    }\n",
              "  </style>\n",
              "\n",
              "      <script>\n",
              "        const buttonEl =\n",
              "          document.querySelector('#df-6abbc8ea-f626-4a65-8e60-19688277a9b8 button.colab-df-convert');\n",
              "        buttonEl.style.display =\n",
              "          google.colab.kernel.accessAllowed ? 'block' : 'none';\n",
              "\n",
              "        async function convertToInteractive(key) {\n",
              "          const element = document.querySelector('#df-6abbc8ea-f626-4a65-8e60-19688277a9b8');\n",
              "          const dataTable =\n",
              "            await google.colab.kernel.invokeFunction('convertToInteractive',\n",
              "                                                     [key], {});\n",
              "          if (!dataTable) return;\n",
              "\n",
              "          const docLinkHtml = 'Like what you see? Visit the ' +\n",
              "            '<a target=\"_blank\" href=https://colab.research.google.com/notebooks/data_table.ipynb>data table notebook</a>'\n",
              "            + ' to learn more about interactive tables.';\n",
              "          element.innerHTML = '';\n",
              "          dataTable['output_type'] = 'display_data';\n",
              "          await google.colab.output.renderOutput(dataTable, element);\n",
              "          const docLink = document.createElement('div');\n",
              "          docLink.innerHTML = docLinkHtml;\n",
              "          element.appendChild(docLink);\n",
              "        }\n",
              "      </script>\n",
              "    </div>\n",
              "  </div>\n",
              "  "
            ]
          },
          "metadata": {},
          "execution_count": 3
        }
      ]
    },
    {
      "cell_type": "code",
      "metadata": {
        "colab": {
          "base_uri": "https://localhost:8080/",
          "height": 310
        },
        "id": "KtTRSAv2YenS",
        "outputId": "6edb1e9b-b9ee-4e44-ffbf-f79903c6bec3"
      },
      "source": [
        "import matplotlib.pyplot as plt\n",
        "data.plot(x ='Tanggal', y='Meninggal')\n",
        "plt.title('COVID-19 Death Cases in Jakarta')\n",
        "plt.xlabel('Time')\n",
        "plt.ylabel('Death Cases')"
      ],
      "execution_count": 4,
      "outputs": [
        {
          "output_type": "execute_result",
          "data": {
            "text/plain": [
              "Text(0, 0.5, 'Death Cases')"
            ]
          },
          "metadata": {},
          "execution_count": 4
        },
        {
          "output_type": "display_data",
          "data": {
            "text/plain": [
              "<Figure size 432x288 with 1 Axes>"
            ],
            "image/png": "[encoded data removed]"
          },
          "metadata": {
            "needs_background": "light"
          }
        }
      ]
    },
    {
      "cell_type": "code",
      "metadata": {
        "id": "LiUn4JTyeyXB"
      },
      "source": [
        "# normalize the dataset\n",
        "dataset=data['Meninggal'].values\n",
        "dataset=dataset.astype('float32')\n",
        "dataset=numpy.reshape(dataset,(-1,1))\n",
        "scaler=MinMaxScaler(feature_range=(0,1))\n",
        "dataset=scaler.fit_transform(dataset)"
      ],
      "execution_count": 5,
      "outputs": []
    },
    {
      "cell_type": "code",
      "metadata": {
        "id": "qaY2ZASze5Uc",
        "colab": {
          "base_uri": "https://localhost:8080/"
        },
        "outputId": "719e3e5c-6f25-481a-f318-4331e6b18b4d"
      },
      "source": [
        "# split into train and test sets\n",
        "train_size = int(len(dataset) * 0.80)\n",
        "test_size = len(dataset) - train_size\n",
        "train, test = dataset[0:train_size,:], dataset[train_size:len(dataset),:]\n",
        "print(train_size)\n",
        "print(test_size)"
      ],
      "execution_count": 6,
      "outputs": [
        {
          "output_type": "stream",
          "name": "stdout",
          "text": [
            "611\n",
            "153\n"
          ]
        }
      ]
    },
    {
      "cell_type": "code",
      "metadata": {
        "colab": {
          "base_uri": "https://localhost:8080/"
        },
        "id": "ISuRCfxpfI4u",
        "outputId": "eee7167e-b03c-40c3-a231-b83064a168de"
      },
      "source": [
        "#Create Dataset Function\n",
        "def create_dataset(dataset,look_back):\n",
        "  X,Y=[],[]\n",
        "  for i in range (len(dataset)-look_back-1):\n",
        "    a=dataset[i:(i+look_back),0]\n",
        "    X.append(a)\n",
        "    Y.append(dataset[i+look_back,0])\n",
        "  return numpy.array(X),numpy.array(Y)\n",
        "\n",
        "# reshape into X=t and Y=t+1\n",
        "look_back = 1\n",
        "trainX, trainY = create_dataset(train, look_back)\n",
        "testX, testY = create_dataset(test, look_back)\n",
        "\n",
        "# reshape input to be [samples, time steps, features]\n",
        "trainX = numpy.reshape(trainX, (trainX.shape[0], trainX.shape[1], 1))\n",
        "testX = numpy.reshape(testX, (testX.shape[0], testX.shape[1], 1))\n",
        "\n",
        "learning_rate=0.01\n",
        "batch_size=100\n",
        "neuron_unit=10\n",
        "\n",
        "# create and fit the LSTM network\n",
        "model = Sequential()\n",
        "model.add(LSTM(neuron_unit, input_shape=(trainX.shape[1], trainX.shape[2])))\n",
        "model.add(Dense(1,activation='tanh',kernel_initializer='glorot_uniform',bias_initializer='zero',use_bias=True))\n",
        "opt=keras.optimizers.Adam(learning_rate=learning_rate)\n",
        "model.compile(loss='mean_squared_error', optimizer=opt)\n",
        "history=model.fit(trainX, trainY, epochs=100, batch_size=batch_size, validation_data=(testX,testY),\n",
        "          callbacks=[EarlyStopping(monitor='val_loss',patience=10)],verbose=2, shuffle=False)\n",
        "model.reset_states()\n",
        "model.summary()\n",
        "\n",
        "# make predictions\n",
        "trainPredict = model.predict(trainX)\n",
        "model.reset_states()\n",
        "testPredict = model.predict(testX)\n",
        "\n",
        "# invert predictions\n",
        "trainPredict = scaler.inverse_transform(trainPredict)\n",
        "trainY = scaler.inverse_transform([trainY])\n",
        "testPredict = scaler.inverse_transform(testPredict)\n",
        "testY = scaler.inverse_transform([testY])\n",
        "\n",
        "# calculate root mean squared error\n",
        "trainScore = math.sqrt(mean_squared_error(trainY[0], trainPredict[:,0]))\n",
        "print('Train Score: %.2f RMSE' % (trainScore))\n",
        "testScore = math.sqrt(mean_squared_error(testY[0], testPredict[:,0]))\n",
        "print('Test Score: %.2f RMSE' % (testScore))"
      ],
      "execution_count": 7,
      "outputs": [
        {
          "output_type": "stream",
          "name": "stdout",
          "text": [
            "Epoch 1/100\n",
            "7/7 - 3s - loss: 0.0129 - val_loss: 0.0088 - 3s/epoch - 425ms/step\n",
            "Epoch 2/100\n",
            "7/7 - 0s - loss: 0.0136 - val_loss: 0.0050 - 61ms/epoch - 9ms/step\n",
            "Epoch 3/100\n",
            "7/7 - 0s - loss: 0.0124 - val_loss: 0.0030 - 46ms/epoch - 7ms/step\n",
            "Epoch 4/100\n",
            "7/7 - 0s - loss: 0.0112 - val_loss: 0.0029 - 47ms/epoch - 7ms/step\n",
            "Epoch 5/100\n",
            "7/7 - 0s - loss: 0.0098 - val_loss: 0.0034 - 45ms/epoch - 6ms/step\n",
            "Epoch 6/100\n",
            "7/7 - 0s - loss: 0.0090 - val_loss: 0.0031 - 47ms/epoch - 7ms/step\n",
            "Epoch 7/100\n",
            "7/7 - 0s - loss: 0.0084 - val_loss: 0.0023 - 47ms/epoch - 7ms/step\n",
            "Epoch 8/100\n",
            "7/7 - 0s - loss: 0.0076 - val_loss: 0.0019 - 56ms/epoch - 8ms/step\n",
            "Epoch 9/100\n",
            "7/7 - 0s - loss: 0.0068 - val_loss: 0.0017 - 41ms/epoch - 6ms/step\n",
            "Epoch 10/100\n",
            "7/7 - 0s - loss: 0.0062 - val_loss: 0.0014 - 41ms/epoch - 6ms/step\n",
            "Epoch 11/100\n",
            "7/7 - 0s - loss: 0.0057 - val_loss: 0.0011 - 45ms/epoch - 6ms/step\n",
            "Epoch 12/100\n",
            "7/7 - 0s - loss: 0.0054 - val_loss: 9.0494e-04 - 43ms/epoch - 6ms/step\n",
            "Epoch 13/100\n",
            "7/7 - 0s - loss: 0.0052 - val_loss: 7.9457e-04 - 47ms/epoch - 7ms/step\n",
            "Epoch 14/100\n",
            "7/7 - 0s - loss: 0.0051 - val_loss: 7.0756e-04 - 47ms/epoch - 7ms/step\n",
            "Epoch 15/100\n",
            "7/7 - 0s - loss: 0.0051 - val_loss: 6.8093e-04 - 48ms/epoch - 7ms/step\n",
            "Epoch 16/100\n",
            "7/7 - 0s - loss: 0.0051 - val_loss: 6.6458e-04 - 43ms/epoch - 6ms/step\n",
            "Epoch 17/100\n",
            "7/7 - 0s - loss: 0.0051 - val_loss: 6.5690e-04 - 54ms/epoch - 8ms/step\n",
            "Epoch 18/100\n",
            "7/7 - 0s - loss: 0.0051 - val_loss: 6.5922e-04 - 46ms/epoch - 7ms/step\n",
            "Epoch 19/100\n",
            "7/7 - 0s - loss: 0.0051 - val_loss: 6.5856e-04 - 46ms/epoch - 7ms/step\n",
            "Epoch 20/100\n",
            "7/7 - 0s - loss: 0.0051 - val_loss: 6.6131e-04 - 43ms/epoch - 6ms/step\n",
            "Epoch 21/100\n",
            "7/7 - 0s - loss: 0.0051 - val_loss: 6.6213e-04 - 74ms/epoch - 11ms/step\n",
            "Epoch 22/100\n",
            "7/7 - 0s - loss: 0.0051 - val_loss: 6.6163e-04 - 45ms/epoch - 6ms/step\n",
            "Epoch 23/100\n",
            "7/7 - 0s - loss: 0.0050 - val_loss: 6.6080e-04 - 53ms/epoch - 8ms/step\n",
            "Epoch 24/100\n",
            "7/7 - 0s - loss: 0.0050 - val_loss: 6.5844e-04 - 50ms/epoch - 7ms/step\n",
            "Epoch 25/100\n",
            "7/7 - 0s - loss: 0.0050 - val_loss: 6.5639e-04 - 48ms/epoch - 7ms/step\n",
            "Epoch 26/100\n",
            "7/7 - 0s - loss: 0.0050 - val_loss: 6.5397e-04 - 44ms/epoch - 6ms/step\n",
            "Epoch 27/100\n",
            "7/7 - 0s - loss: 0.0050 - val_loss: 6.5186e-04 - 50ms/epoch - 7ms/step\n",
            "Epoch 28/100\n",
            "7/7 - 0s - loss: 0.0050 - val_loss: 6.4993e-04 - 44ms/epoch - 6ms/step\n",
            "Epoch 29/100\n",
            "7/7 - 0s - loss: 0.0050 - val_loss: 6.4816e-04 - 47ms/epoch - 7ms/step\n",
            "Epoch 30/100\n",
            "7/7 - 0s - loss: 0.0050 - val_loss: 6.4662e-04 - 46ms/epoch - 7ms/step\n",
            "Epoch 31/100\n",
            "7/7 - 0s - loss: 0.0050 - val_loss: 6.4515e-04 - 54ms/epoch - 8ms/step\n",
            "Epoch 32/100\n",
            "7/7 - 0s - loss: 0.0050 - val_loss: 6.4382e-04 - 46ms/epoch - 7ms/step\n",
            "Epoch 33/100\n",
            "7/7 - 0s - loss: 0.0050 - val_loss: 6.4256e-04 - 48ms/epoch - 7ms/step\n",
            "Epoch 34/100\n",
            "7/7 - 0s - loss: 0.0050 - val_loss: 6.4143e-04 - 43ms/epoch - 6ms/step\n",
            "Epoch 35/100\n",
            "7/7 - 0s - loss: 0.0049 - val_loss: 6.4039e-04 - 44ms/epoch - 6ms/step\n",
            "Epoch 36/100\n",
            "7/7 - 0s - loss: 0.0049 - val_loss: 6.3949e-04 - 42ms/epoch - 6ms/step\n",
            "Epoch 37/100\n",
            "7/7 - 0s - loss: 0.0049 - val_loss: 6.3872e-04 - 43ms/epoch - 6ms/step\n",
            "Epoch 38/100\n",
            "7/7 - 0s - loss: 0.0049 - val_loss: 6.3809e-04 - 45ms/epoch - 6ms/step\n",
            "Epoch 39/100\n",
            "7/7 - 0s - loss: 0.0049 - val_loss: 6.3760e-04 - 48ms/epoch - 7ms/step\n",
            "Epoch 40/100\n",
            "7/7 - 0s - loss: 0.0049 - val_loss: 6.3725e-04 - 47ms/epoch - 7ms/step\n",
            "Epoch 41/100\n",
            "7/7 - 0s - loss: 0.0049 - val_loss: 6.3704e-04 - 55ms/epoch - 8ms/step\n",
            "Epoch 42/100\n",
            "7/7 - 0s - loss: 0.0049 - val_loss: 6.3697e-04 - 50ms/epoch - 7ms/step\n",
            "Epoch 43/100\n",
            "7/7 - 0s - loss: 0.0049 - val_loss: 6.3703e-04 - 49ms/epoch - 7ms/step\n",
            "Epoch 44/100\n",
            "7/7 - 0s - loss: 0.0049 - val_loss: 6.3723e-04 - 48ms/epoch - 7ms/step\n",
            "Epoch 45/100\n",
            "7/7 - 0s - loss: 0.0049 - val_loss: 6.3756e-04 - 47ms/epoch - 7ms/step\n",
            "Epoch 46/100\n",
            "7/7 - 0s - loss: 0.0049 - val_loss: 6.3800e-04 - 54ms/epoch - 8ms/step\n",
            "Epoch 47/100\n",
            "7/7 - 0s - loss: 0.0049 - val_loss: 6.3856e-04 - 41ms/epoch - 6ms/step\n",
            "Epoch 48/100\n",
            "7/7 - 0s - loss: 0.0049 - val_loss: 6.3921e-04 - 44ms/epoch - 6ms/step\n",
            "Epoch 49/100\n",
            "7/7 - 0s - loss: 0.0049 - val_loss: 6.3997e-04 - 41ms/epoch - 6ms/step\n",
            "Epoch 50/100\n",
            "7/7 - 0s - loss: 0.0049 - val_loss: 6.4080e-04 - 42ms/epoch - 6ms/step\n",
            "Epoch 51/100\n",
            "7/7 - 0s - loss: 0.0049 - val_loss: 6.4170e-04 - 42ms/epoch - 6ms/step\n",
            "Epoch 52/100\n",
            "7/7 - 0s - loss: 0.0049 - val_loss: 6.4267e-04 - 44ms/epoch - 6ms/step\n",
            "Model: \"sequential\"\n",
            "_________________________________________________________________\n",
            " Layer (type)                Output Shape              Param #   \n",
            "=================================================================\n",
            " lstm (LSTM)                 (None, 10)                480       \n",
            "                                                                 \n",
            " dense (Dense)               (None, 1)                 11        \n",
            "                                                                 \n",
            "=================================================================\n",
            "Total params: 491\n",
            "Trainable params: 491\n",
            "Non-trainable params: 0\n",
            "_________________________________________________________________\n",
            "Train Score: 18.38 RMSE\n",
            "Test Score: 6.72 RMSE\n"
          ]
        }
      ]
    },
    {
      "cell_type": "code",
      "metadata": {
        "id": "zMzxa9uFfmh-"
      },
      "source": [
        "# shift train predictions for plotting\n",
        "trainPredictPlot = numpy.empty_like(dataset)\n",
        "trainPredictPlot[:, :] = numpy.nan\n",
        "trainPredictPlot[look_back:len(trainPredict)+look_back, :] = trainPredict\n",
        "\n",
        "# shift test predictions for plotting\n",
        "testPredictPlot = numpy.empty_like(dataset)\n",
        "testPredictPlot[:, :] = numpy.nan\n",
        "testPredictPlot[len(trainPredict)+(look_back*2)+1:len(dataset)-1, :] = testPredict"
      ],
      "execution_count": 8,
      "outputs": []
    },
    {
      "cell_type": "code",
      "metadata": {
        "colab": {
          "base_uri": "https://localhost:8080/"
        },
        "id": "jFGSsRAUv-H3",
        "outputId": "17e208d7-6ee0-4dd7-ae76-621898fafd94"
      },
      "source": [
        "print(testY.shape)"
      ],
      "execution_count": 9,
      "outputs": [
        {
          "output_type": "stream",
          "name": "stdout",
          "text": [
            "(1, 151)\n"
          ]
        }
      ]
    },
    {
      "cell_type": "code",
      "metadata": {
        "colab": {
          "base_uri": "https://localhost:8080/",
          "height": 295
        },
        "id": "Kn1MkB5ddcUj",
        "outputId": "488734ea-9b93-439c-bf5e-abd994b210ad"
      },
      "source": [
        "# plot baseline and predictions\n",
        "plt.plot(scaler.inverse_transform(dataset))\n",
        "plt.plot(trainPredictPlot)\n",
        "plt.plot(testPredictPlot)\n",
        "plt.title('Fitted Model COVID-19 Death Cases in Jakarta')\n",
        "plt.xlabel('Time step')\n",
        "plt.ylabel('Death Cases')\n",
        "plt.show()"
      ],
      "execution_count": 10,
      "outputs": [
        {
          "output_type": "display_data",
          "data": {
            "text/plain": [
              "<Figure size 432x288 with 1 Axes>"
            ],
            "image/png": "[encoded data removed]"
          },
          "metadata": {
            "needs_background": "light"
          }
        }
      ]
    },
    {
      "cell_type": "code",
      "metadata": {
        "colab": {
          "base_uri": "https://localhost:8080/",
          "height": 316
        },
        "id": "sM7sH1H-SDJH",
        "outputId": "8afb9cd7-5543-4720-b47f-36f636afab05"
      },
      "source": [
        "#Plot Prediction\n",
        "aa=[x for x in range(151)]\n",
        "plt.figure(figsize=(6,4))\n",
        "plt.plot(aa,testY[0][:151],marker='.',label=\"actual\")\n",
        "plt.plot(aa,testPredict[:,0][:151],'r',marker='.',label=\"prediction\")\n",
        "plt.tick_params(left=False,labelleft=True) #remove ticks\n",
        "plt.tight_layout()\n",
        "plt.subplots_adjust(left=0.07)\n",
        "plt.ylabel('Death Cases',size=15)\n",
        "plt.xlabel('Time step', size=15)\n",
        "plt.legend(fontsize=15)\n",
        "plt.show()"
      ],
      "execution_count": 11,
      "outputs": [
        {
          "output_type": "display_data",
          "data": {
            "text/plain": [
              "<Figure size 432x288 with 1 Axes>"
            ],
            "image/png": "[encoded data removed]"
          },
          "metadata": {
            "needs_background": "light"
          }
        }
      ]
    },
    {
      "cell_type": "code",
      "metadata": {
        "colab": {
          "base_uri": "https://localhost:8080/",
          "height": 295
        },
        "id": "2XQvFbGP-tHN",
        "outputId": "e865bdac-f57f-4ec2-93ea-a2ab5c4e285b"
      },
      "source": [
        "#Plot loss\n",
        "plt.figure(figsize=(6,4))\n",
        "plt.plot(history.history['loss'],label='Train Loss')\n",
        "plt.plot(history.history['val_loss'],label='Test Loss')\n",
        "plt.title('model.loss')\n",
        "plt.ylabel('loss')\n",
        "plt.xlabel('epochs')\n",
        "plt.legend(loc='upper right')\n",
        "plt.show();"
      ],
      "execution_count": null,
      "outputs": [
        {
          "output_type": "display_data",
          "data": {
            "text/plain": [
              "<Figure size 432x288 with 1 Axes>"
            ],
            "image/png": "[encoded data removed]"
          },
          "metadata": {
            "needs_background": "light"
          }
        }
      ]
    },
    {
      "cell_type": "code",
      "metadata": {
        "colab": {
          "base_uri": "https://localhost:8080/"
        },
        "id": "iWqgQ6yslMJ5",
        "outputId": "23426ec3-1076-4315-acde-601555b396ea"
      },
      "source": [
        "X_FUTURE = 7\n",
        "predictions = numpy.array([])\n",
        "last = testX[-1]\n",
        "for i in range(X_FUTURE):\n",
        "  curr_prediction = model.predict(numpy.array([last]))\n",
        "  last = numpy.concatenate([last[1:], curr_prediction])\n",
        "  predictions = numpy.concatenate([predictions, curr_prediction[0]])\n",
        "predictions = scaler.inverse_transform([predictions])[0]\n",
        "print(predictions)"
      ],
      "execution_count": null,
      "outputs": [
        {
          "output_type": "stream",
          "name": "stdout",
          "text": [
            "[10.00136826 11.85282596 13.56684344 15.15447242 16.62558985 17.98909339\n",
            " 19.25304157]\n"
          ]
        }
      ]
    },
    {
      "cell_type": "code",
      "source": [
        "#RSQUARE\n",
        "from sklearn.metrics import r2_score\n",
        "r2 = r2_score(testY[0][:151],testPredict[:,0][:151])\n",
        "print(r2)"
      ],
      "metadata": {
        "colab": {
          "base_uri": "https://localhost:8080/"
        },
        "id": "fg-eO8VYoZt6",
        "outputId": "efcce220-831e-4a3d-e4e0-45851d89ded9"
      },
      "execution_count": null,
      "outputs": [
        {
          "output_type": "stream",
          "name": "stdout",
          "text": [
            "0.807326609577828\n"
          ]
        }
      ]
    },
    {
      "cell_type": "code",
      "source": [
        "from sklearn.metrics import mean_absolute_error as mae\n",
        "\n",
        "# calculate MAE\n",
        "error = mae(testY[0][:151],testPredict[:,0][:151])\n",
        "  \n",
        "# display\n",
        "print(\"Mean absolute error : \" + str(error))"
      ],
      "metadata": {
        "colab": {
          "base_uri": "https://localhost:8080/"
        },
        "id": "mSSiJF4Ooaj1",
        "outputId": "e30c5aaf-eb96-4050-8502-b85780b3644e"
      },
      "execution_count": null,
      "outputs": [
        {
          "output_type": "stream",
          "name": "stdout",
          "text": [
            "Mean absolute error : 4.607580191252247\n"
          ]
        }
      ]
    },
    {
      "cell_type": "code",
      "source": [
        "#RMSE\n",
        "#import necessary libraries\n",
        "from sklearn.metrics import mean_squared_error\n",
        "from math import sqrt\n",
        "\n",
        "#calculate RMSE\n",
        "rmse = sqrt(mean_squared_error(testY[0][:151],testPredict[:,0][:151]))\n",
        "print(rmse)"
      ],
      "metadata": {
        "colab": {
          "base_uri": "https://localhost:8080/"
        },
        "id": "fjG_vf0vocpS",
        "outputId": "51117806-2df1-4201-ba88-ac128344efec"
      },
      "execution_count": null,
      "outputs": [
        {
          "output_type": "stream",
          "name": "stdout",
          "text": [
            "6.713192167757084\n"
          ]
        }
      ]
    }
  ]
}